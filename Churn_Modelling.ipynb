{
  "nbformat": 4,
  "nbformat_minor": 0,
  "metadata": {
    "colab": {
      "name": "Churn Modelling.ipynb",
      "provenance": []
    },
    "kernelspec": {
      "name": "python3",
      "display_name": "Python 3"
    }
  },
  "cells": [
    {
      "cell_type": "code",
      "metadata": {
        "id": "uTrWDkV1Tpq6"
      },
      "source": [
        "import numpy as np\r\n",
        "import pandas as pd\r\n",
        "import io"
      ],
      "execution_count": 3,
      "outputs": []
    },
    {
      "cell_type": "code",
      "metadata": {
        "colab": {
          "resources": {
            "http://localhost:8080/nbextensions/google.colab/files.js": {
              "data": "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",
              "ok": true,
              "headers": [
                [
                  "content-type",
                  "application/javascript"
                ]
              ],
              "status": 200,
              "status_text": ""
            }
          },
          "base_uri": "https://localhost:8080/",
          "height": 72
        },
        "id": "22cXwF8-TyS6",
        "outputId": "d83581d2-1fef-46ec-c23b-ce87f1e95020"
      },
      "source": [
        "from google.colab import files\r\n",
        "uploaded = files.upload()"
      ],
      "execution_count": 4,
      "outputs": [
        {
          "output_type": "display_data",
          "data": {
            "text/html": [
              "\n",
              "     <input type=\"file\" id=\"files-54d7e54c-f321-48ca-9cbe-55376621bb6f\" name=\"files[]\" multiple disabled\n",
              "        style=\"border:none\" />\n",
              "     <output id=\"result-54d7e54c-f321-48ca-9cbe-55376621bb6f\">\n",
              "      Upload widget is only available when the cell has been executed in the\n",
              "      current browser session. Please rerun this cell to enable.\n",
              "      </output>\n",
              "      <script src=\"/nbextensions/google.colab/files.js\"></script> "
            ],
            "text/plain": [
              "<IPython.core.display.HTML object>"
            ]
          },
          "metadata": {
            "tags": []
          }
        },
        {
          "output_type": "stream",
          "text": [
            "Saving Churn_Modelling.csv to Churn_Modelling.csv\n"
          ],
          "name": "stdout"
        }
      ]
    },
    {
      "cell_type": "code",
      "metadata": {
        "colab": {
          "base_uri": "https://localhost:8080/",
          "height": 204
        },
        "id": "szst_68mT7PZ",
        "outputId": "a9106caa-a72a-45f5-eaab-ad19dd6a677c"
      },
      "source": [
        "data = pd.read_csv(io.BytesIO(uploaded['Churn_Modelling.csv']))\r\n",
        "data.head()"
      ],
      "execution_count": 14,
      "outputs": [
        {
          "output_type": "execute_result",
          "data": {
            "text/html": [
              "<div>\n",
              "<style scoped>\n",
              "    .dataframe tbody tr th:only-of-type {\n",
              "        vertical-align: middle;\n",
              "    }\n",
              "\n",
              "    .dataframe tbody tr th {\n",
              "        vertical-align: top;\n",
              "    }\n",
              "\n",
              "    .dataframe thead th {\n",
              "        text-align: right;\n",
              "    }\n",
              "</style>\n",
              "<table border=\"1\" class=\"dataframe\">\n",
              "  <thead>\n",
              "    <tr style=\"text-align: right;\">\n",
              "      <th></th>\n",
              "      <th>RowNumber</th>\n",
              "      <th>CustomerId</th>\n",
              "      <th>Surname</th>\n",
              "      <th>CreditScore</th>\n",
              "      <th>Geography</th>\n",
              "      <th>Gender</th>\n",
              "      <th>Age</th>\n",
              "      <th>Tenure</th>\n",
              "      <th>Balance</th>\n",
              "      <th>NumOfProducts</th>\n",
              "      <th>HasCrCard</th>\n",
              "      <th>IsActiveMember</th>\n",
              "      <th>EstimatedSalary</th>\n",
              "      <th>Exited</th>\n",
              "    </tr>\n",
              "  </thead>\n",
              "  <tbody>\n",
              "    <tr>\n",
              "      <th>0</th>\n",
              "      <td>1</td>\n",
              "      <td>15634602</td>\n",
              "      <td>Hargrave</td>\n",
              "      <td>619</td>\n",
              "      <td>France</td>\n",
              "      <td>Female</td>\n",
              "      <td>42</td>\n",
              "      <td>2</td>\n",
              "      <td>0.00</td>\n",
              "      <td>1</td>\n",
              "      <td>1</td>\n",
              "      <td>1</td>\n",
              "      <td>101348.88</td>\n",
              "      <td>1</td>\n",
              "    </tr>\n",
              "    <tr>\n",
              "      <th>1</th>\n",
              "      <td>2</td>\n",
              "      <td>15647311</td>\n",
              "      <td>Hill</td>\n",
              "      <td>608</td>\n",
              "      <td>Spain</td>\n",
              "      <td>Female</td>\n",
              "      <td>41</td>\n",
              "      <td>1</td>\n",
              "      <td>83807.86</td>\n",
              "      <td>1</td>\n",
              "      <td>0</td>\n",
              "      <td>1</td>\n",
              "      <td>112542.58</td>\n",
              "      <td>0</td>\n",
              "    </tr>\n",
              "    <tr>\n",
              "      <th>2</th>\n",
              "      <td>3</td>\n",
              "      <td>15619304</td>\n",
              "      <td>Onio</td>\n",
              "      <td>502</td>\n",
              "      <td>France</td>\n",
              "      <td>Female</td>\n",
              "      <td>42</td>\n",
              "      <td>8</td>\n",
              "      <td>159660.80</td>\n",
              "      <td>3</td>\n",
              "      <td>1</td>\n",
              "      <td>0</td>\n",
              "      <td>113931.57</td>\n",
              "      <td>1</td>\n",
              "    </tr>\n",
              "    <tr>\n",
              "      <th>3</th>\n",
              "      <td>4</td>\n",
              "      <td>15701354</td>\n",
              "      <td>Boni</td>\n",
              "      <td>699</td>\n",
              "      <td>France</td>\n",
              "      <td>Female</td>\n",
              "      <td>39</td>\n",
              "      <td>1</td>\n",
              "      <td>0.00</td>\n",
              "      <td>2</td>\n",
              "      <td>0</td>\n",
              "      <td>0</td>\n",
              "      <td>93826.63</td>\n",
              "      <td>0</td>\n",
              "    </tr>\n",
              "    <tr>\n",
              "      <th>4</th>\n",
              "      <td>5</td>\n",
              "      <td>15737888</td>\n",
              "      <td>Mitchell</td>\n",
              "      <td>850</td>\n",
              "      <td>Spain</td>\n",
              "      <td>Female</td>\n",
              "      <td>43</td>\n",
              "      <td>2</td>\n",
              "      <td>125510.82</td>\n",
              "      <td>1</td>\n",
              "      <td>1</td>\n",
              "      <td>1</td>\n",
              "      <td>79084.10</td>\n",
              "      <td>0</td>\n",
              "    </tr>\n",
              "  </tbody>\n",
              "</table>\n",
              "</div>"
            ],
            "text/plain": [
              "   RowNumber  CustomerId   Surname  ...  IsActiveMember EstimatedSalary Exited\n",
              "0          1    15634602  Hargrave  ...               1       101348.88      1\n",
              "1          2    15647311      Hill  ...               1       112542.58      0\n",
              "2          3    15619304      Onio  ...               0       113931.57      1\n",
              "3          4    15701354      Boni  ...               0        93826.63      0\n",
              "4          5    15737888  Mitchell  ...               1        79084.10      0\n",
              "\n",
              "[5 rows x 14 columns]"
            ]
          },
          "metadata": {
            "tags": []
          },
          "execution_count": 14
        }
      ]
    },
    {
      "cell_type": "code",
      "metadata": {
        "id": "tKXq5ctdUVpO"
      },
      "source": [
        "def preprocess_data(df):\r\n",
        "    \r\n",
        "    # Feature selection:-\r\n",
        "    columns_to_drop =  ['RowNumber','CustomerId','Surname','NumOfProducts']\r\n",
        "    df = df.drop(columns=columns_to_drop)\r\n",
        "    \r\n",
        "    # One-hot encoding categorial columns:-\r\n",
        "    geography = pd.get_dummies(df['Geography'],drop_first=True)\r\n",
        "    gender = pd.get_dummies(df['Gender'],drop_first=True)\r\n",
        "    temp_df = df.drop(['Geography','Gender'],axis=1)\r\n",
        "    data = pd.concat([temp_df,geography,gender],axis=1)\r\n",
        "    \r\n",
        "    return data\r\n",
        "\r\n",
        "data = preprocess_data(data)"
      ],
      "execution_count": 15,
      "outputs": []
    },
    {
      "cell_type": "code",
      "metadata": {
        "colab": {
          "base_uri": "https://localhost:8080/",
          "height": 204
        },
        "id": "rK9hBLLsUZnZ",
        "outputId": "cb5b60e6-ea38-4d1e-8c66-05ebb62a8e95"
      },
      "source": [
        "data.head()"
      ],
      "execution_count": 16,
      "outputs": [
        {
          "output_type": "execute_result",
          "data": {
            "text/html": [
              "<div>\n",
              "<style scoped>\n",
              "    .dataframe tbody tr th:only-of-type {\n",
              "        vertical-align: middle;\n",
              "    }\n",
              "\n",
              "    .dataframe tbody tr th {\n",
              "        vertical-align: top;\n",
              "    }\n",
              "\n",
              "    .dataframe thead th {\n",
              "        text-align: right;\n",
              "    }\n",
              "</style>\n",
              "<table border=\"1\" class=\"dataframe\">\n",
              "  <thead>\n",
              "    <tr style=\"text-align: right;\">\n",
              "      <th></th>\n",
              "      <th>CreditScore</th>\n",
              "      <th>Age</th>\n",
              "      <th>Tenure</th>\n",
              "      <th>Balance</th>\n",
              "      <th>HasCrCard</th>\n",
              "      <th>IsActiveMember</th>\n",
              "      <th>EstimatedSalary</th>\n",
              "      <th>Exited</th>\n",
              "      <th>Germany</th>\n",
              "      <th>Spain</th>\n",
              "      <th>Male</th>\n",
              "    </tr>\n",
              "  </thead>\n",
              "  <tbody>\n",
              "    <tr>\n",
              "      <th>0</th>\n",
              "      <td>619</td>\n",
              "      <td>42</td>\n",
              "      <td>2</td>\n",
              "      <td>0.00</td>\n",
              "      <td>1</td>\n",
              "      <td>1</td>\n",
              "      <td>101348.88</td>\n",
              "      <td>1</td>\n",
              "      <td>0</td>\n",
              "      <td>0</td>\n",
              "      <td>0</td>\n",
              "    </tr>\n",
              "    <tr>\n",
              "      <th>1</th>\n",
              "      <td>608</td>\n",
              "      <td>41</td>\n",
              "      <td>1</td>\n",
              "      <td>83807.86</td>\n",
              "      <td>0</td>\n",
              "      <td>1</td>\n",
              "      <td>112542.58</td>\n",
              "      <td>0</td>\n",
              "      <td>0</td>\n",
              "      <td>1</td>\n",
              "      <td>0</td>\n",
              "    </tr>\n",
              "    <tr>\n",
              "      <th>2</th>\n",
              "      <td>502</td>\n",
              "      <td>42</td>\n",
              "      <td>8</td>\n",
              "      <td>159660.80</td>\n",
              "      <td>1</td>\n",
              "      <td>0</td>\n",
              "      <td>113931.57</td>\n",
              "      <td>1</td>\n",
              "      <td>0</td>\n",
              "      <td>0</td>\n",
              "      <td>0</td>\n",
              "    </tr>\n",
              "    <tr>\n",
              "      <th>3</th>\n",
              "      <td>699</td>\n",
              "      <td>39</td>\n",
              "      <td>1</td>\n",
              "      <td>0.00</td>\n",
              "      <td>0</td>\n",
              "      <td>0</td>\n",
              "      <td>93826.63</td>\n",
              "      <td>0</td>\n",
              "      <td>0</td>\n",
              "      <td>0</td>\n",
              "      <td>0</td>\n",
              "    </tr>\n",
              "    <tr>\n",
              "      <th>4</th>\n",
              "      <td>850</td>\n",
              "      <td>43</td>\n",
              "      <td>2</td>\n",
              "      <td>125510.82</td>\n",
              "      <td>1</td>\n",
              "      <td>1</td>\n",
              "      <td>79084.10</td>\n",
              "      <td>0</td>\n",
              "      <td>0</td>\n",
              "      <td>1</td>\n",
              "      <td>0</td>\n",
              "    </tr>\n",
              "  </tbody>\n",
              "</table>\n",
              "</div>"
            ],
            "text/plain": [
              "   CreditScore  Age  Tenure    Balance  ...  Exited  Germany  Spain  Male\n",
              "0          619   42       2       0.00  ...       1        0      0     0\n",
              "1          608   41       1   83807.86  ...       0        0      1     0\n",
              "2          502   42       8  159660.80  ...       1        0      0     0\n",
              "3          699   39       1       0.00  ...       0        0      0     0\n",
              "4          850   43       2  125510.82  ...       0        0      1     0\n",
              "\n",
              "[5 rows x 11 columns]"
            ]
          },
          "metadata": {
            "tags": []
          },
          "execution_count": 16
        }
      ]
    },
    {
      "cell_type": "code",
      "metadata": {
        "id": "75PATJeiUfAr"
      },
      "source": [
        "from sklearn.model_selection import train_test_split\r\n",
        "from sklearn.preprocessing import StandardScaler\r\n",
        "from sklearn.metrics import classification_report"
      ],
      "execution_count": 17,
      "outputs": []
    },
    {
      "cell_type": "code",
      "metadata": {
        "id": "ERSPRs08U7JZ"
      },
      "source": [
        "# Splitting and Feature scaling:\r\n",
        "\r\n",
        "X = data.drop(columns=['Exited'])\r\n",
        "y = data['Exited']\r\n",
        "\r\n",
        "X_train, X_test, y_train, y_test= train_test_split(X,y,test_size=0.2,random_state=42)"
      ],
      "execution_count": 18,
      "outputs": []
    },
    {
      "cell_type": "code",
      "metadata": {
        "id": "jMEhctv6VAg-"
      },
      "source": [
        "# Neural Network:-\r\n",
        "from keras.models import Sequential\r\n",
        "from keras.layers import Dense\r\n",
        "from keras.layers import Dropout\r\n",
        "from keras.utils import to_categorical"
      ],
      "execution_count": 19,
      "outputs": []
    },
    {
      "cell_type": "code",
      "metadata": {
        "id": "yk0zFz8DVVTc"
      },
      "source": [
        "# Scaling:-\r\n",
        "scaler= StandardScaler()\r\n",
        "X_train = scaler.fit_transform(X_train)\r\n",
        "X_test = scaler.transform(X_test)\r\n",
        "\r\n",
        "# Convert X_test to categorical:-\r\n",
        "nn_y_test = to_categorical(y_test)\r\n",
        "rounded_labels=np.argmax(nn_y_test, axis=1)"
      ],
      "execution_count": 20,
      "outputs": []
    },
    {
      "cell_type": "markdown",
      "metadata": {
        "id": "VuUmyNclVdW1"
      },
      "source": [
        "# Model"
      ]
    },
    {
      "cell_type": "code",
      "metadata": {
        "colab": {
          "base_uri": "https://localhost:8080/"
        },
        "id": "K-CgyHwFVjhi",
        "outputId": "59b76093-aa3e-4a9f-ba70-6d9ba534b8bb"
      },
      "source": [
        "model = Sequential()\r\n",
        "model.add(Dense(units=8,kernel_initializer='he_uniform',activation='relu',input_dim=10))\r\n",
        "model.add(Dense(units=6,kernel_initializer='he_uniform',activation='relu'))\r\n",
        "model.add(Dense(units=6,kernel_initializer='he_uniform',activation='relu'))\r\n",
        "model.add(Dense(units=1,kernel_initializer='glorot_uniform',activation='sigmoid'))\r\n",
        "model.compile(optimizer='adam',loss='binary_crossentropy',metrics=['accuracy'])\r\n",
        "model.summary()"
      ],
      "execution_count": 21,
      "outputs": [
        {
          "output_type": "stream",
          "text": [
            "Model: \"sequential_1\"\n",
            "_________________________________________________________________\n",
            "Layer (type)                 Output Shape              Param #   \n",
            "=================================================================\n",
            "dense_4 (Dense)              (None, 8)                 88        \n",
            "_________________________________________________________________\n",
            "dense_5 (Dense)              (None, 6)                 54        \n",
            "_________________________________________________________________\n",
            "dense_6 (Dense)              (None, 6)                 42        \n",
            "_________________________________________________________________\n",
            "dense_7 (Dense)              (None, 1)                 7         \n",
            "=================================================================\n",
            "Total params: 191\n",
            "Trainable params: 191\n",
            "Non-trainable params: 0\n",
            "_________________________________________________________________\n"
          ],
          "name": "stdout"
        }
      ]
    },
    {
      "cell_type": "code",
      "metadata": {
        "colab": {
          "base_uri": "https://localhost:8080/"
        },
        "id": "M-uR7QRxVk46",
        "outputId": "df6b1bfe-ba89-4508-f334-716e4a89b315"
      },
      "source": [
        "model.fit(X_train,y_train,epochs=150,batch_size=64)"
      ],
      "execution_count": 22,
      "outputs": [
        {
          "output_type": "stream",
          "text": [
            "Epoch 1/150\n",
            "125/125 [==============================] - 1s 1ms/step - loss: 0.7325 - accuracy: 0.5232\n",
            "Epoch 2/150\n",
            "125/125 [==============================] - 0s 1ms/step - loss: 0.5425 - accuracy: 0.7896\n",
            "Epoch 3/150\n",
            "125/125 [==============================] - 0s 1ms/step - loss: 0.5085 - accuracy: 0.7964\n",
            "Epoch 4/150\n",
            "125/125 [==============================] - 0s 1ms/step - loss: 0.4895 - accuracy: 0.7923\n",
            "Epoch 5/150\n",
            "125/125 [==============================] - 0s 1ms/step - loss: 0.4714 - accuracy: 0.7921\n",
            "Epoch 6/150\n",
            "125/125 [==============================] - 0s 1ms/step - loss: 0.4656 - accuracy: 0.7918\n",
            "Epoch 7/150\n",
            "125/125 [==============================] - 0s 1ms/step - loss: 0.4477 - accuracy: 0.7998\n",
            "Epoch 8/150\n",
            "125/125 [==============================] - 0s 1ms/step - loss: 0.4426 - accuracy: 0.8052\n",
            "Epoch 9/150\n",
            "125/125 [==============================] - 0s 1ms/step - loss: 0.4331 - accuracy: 0.8178\n",
            "Epoch 10/150\n",
            "125/125 [==============================] - 0s 1ms/step - loss: 0.4324 - accuracy: 0.8132\n",
            "Epoch 11/150\n",
            "125/125 [==============================] - 0s 1ms/step - loss: 0.4480 - accuracy: 0.8054\n",
            "Epoch 12/150\n",
            "125/125 [==============================] - 0s 1ms/step - loss: 0.4127 - accuracy: 0.8227\n",
            "Epoch 13/150\n",
            "125/125 [==============================] - 0s 1ms/step - loss: 0.4190 - accuracy: 0.8232\n",
            "Epoch 14/150\n",
            "125/125 [==============================] - 0s 1ms/step - loss: 0.4241 - accuracy: 0.8212\n",
            "Epoch 15/150\n",
            "125/125 [==============================] - 0s 1ms/step - loss: 0.4309 - accuracy: 0.8180\n",
            "Epoch 16/150\n",
            "125/125 [==============================] - 0s 1ms/step - loss: 0.4248 - accuracy: 0.8199\n",
            "Epoch 17/150\n",
            "125/125 [==============================] - 0s 1ms/step - loss: 0.4198 - accuracy: 0.8248\n",
            "Epoch 18/150\n",
            "125/125 [==============================] - 0s 1ms/step - loss: 0.4141 - accuracy: 0.8272\n",
            "Epoch 19/150\n",
            "125/125 [==============================] - 0s 1ms/step - loss: 0.4102 - accuracy: 0.8325\n",
            "Epoch 20/150\n",
            "125/125 [==============================] - 0s 1ms/step - loss: 0.4069 - accuracy: 0.8282\n",
            "Epoch 21/150\n",
            "125/125 [==============================] - 0s 1ms/step - loss: 0.4112 - accuracy: 0.8284\n",
            "Epoch 22/150\n",
            "125/125 [==============================] - 0s 1ms/step - loss: 0.4160 - accuracy: 0.8266\n",
            "Epoch 23/150\n",
            "125/125 [==============================] - 0s 1ms/step - loss: 0.4108 - accuracy: 0.8266\n",
            "Epoch 24/150\n",
            "125/125 [==============================] - 0s 1ms/step - loss: 0.3997 - accuracy: 0.8329\n",
            "Epoch 25/150\n",
            "125/125 [==============================] - 0s 1ms/step - loss: 0.4073 - accuracy: 0.8310\n",
            "Epoch 26/150\n",
            "125/125 [==============================] - 0s 1ms/step - loss: 0.3958 - accuracy: 0.8398\n",
            "Epoch 27/150\n",
            "125/125 [==============================] - 0s 1ms/step - loss: 0.4008 - accuracy: 0.8378\n",
            "Epoch 28/150\n",
            "125/125 [==============================] - 0s 1ms/step - loss: 0.4005 - accuracy: 0.8338\n",
            "Epoch 29/150\n",
            "125/125 [==============================] - 0s 1ms/step - loss: 0.4063 - accuracy: 0.8295\n",
            "Epoch 30/150\n",
            "125/125 [==============================] - 0s 1ms/step - loss: 0.3975 - accuracy: 0.8359\n",
            "Epoch 31/150\n",
            "125/125 [==============================] - 0s 1ms/step - loss: 0.4033 - accuracy: 0.8320\n",
            "Epoch 32/150\n",
            "125/125 [==============================] - 0s 1ms/step - loss: 0.3933 - accuracy: 0.8402\n",
            "Epoch 33/150\n",
            "125/125 [==============================] - 0s 1ms/step - loss: 0.3910 - accuracy: 0.8408\n",
            "Epoch 34/150\n",
            "125/125 [==============================] - 0s 1ms/step - loss: 0.3999 - accuracy: 0.8393\n",
            "Epoch 35/150\n",
            "125/125 [==============================] - 0s 1ms/step - loss: 0.4046 - accuracy: 0.8331\n",
            "Epoch 36/150\n",
            "125/125 [==============================] - 0s 1ms/step - loss: 0.4079 - accuracy: 0.8309\n",
            "Epoch 37/150\n",
            "125/125 [==============================] - 0s 1ms/step - loss: 0.3902 - accuracy: 0.8429\n",
            "Epoch 38/150\n",
            "125/125 [==============================] - 0s 1ms/step - loss: 0.3892 - accuracy: 0.8386\n",
            "Epoch 39/150\n",
            "125/125 [==============================] - 0s 1ms/step - loss: 0.4010 - accuracy: 0.8377\n",
            "Epoch 40/150\n",
            "125/125 [==============================] - 0s 1ms/step - loss: 0.3927 - accuracy: 0.8400\n",
            "Epoch 41/150\n",
            "125/125 [==============================] - 0s 1ms/step - loss: 0.3895 - accuracy: 0.8398\n",
            "Epoch 42/150\n",
            "125/125 [==============================] - 0s 1ms/step - loss: 0.3860 - accuracy: 0.8431\n",
            "Epoch 43/150\n",
            "125/125 [==============================] - 0s 1ms/step - loss: 0.3941 - accuracy: 0.8346\n",
            "Epoch 44/150\n",
            "125/125 [==============================] - 0s 1ms/step - loss: 0.3948 - accuracy: 0.8346\n",
            "Epoch 45/150\n",
            "125/125 [==============================] - 0s 1ms/step - loss: 0.3852 - accuracy: 0.8420\n",
            "Epoch 46/150\n",
            "125/125 [==============================] - 0s 1ms/step - loss: 0.3933 - accuracy: 0.8353\n",
            "Epoch 47/150\n",
            "125/125 [==============================] - 0s 1ms/step - loss: 0.4017 - accuracy: 0.8323\n",
            "Epoch 48/150\n",
            "125/125 [==============================] - 0s 1ms/step - loss: 0.3930 - accuracy: 0.8350\n",
            "Epoch 49/150\n",
            "125/125 [==============================] - 0s 1ms/step - loss: 0.3871 - accuracy: 0.8421\n",
            "Epoch 50/150\n",
            "125/125 [==============================] - 0s 1ms/step - loss: 0.3909 - accuracy: 0.8417\n",
            "Epoch 51/150\n",
            "125/125 [==============================] - 0s 1ms/step - loss: 0.3967 - accuracy: 0.8355\n",
            "Epoch 52/150\n",
            "125/125 [==============================] - 0s 1ms/step - loss: 0.3851 - accuracy: 0.8464\n",
            "Epoch 53/150\n",
            "125/125 [==============================] - 0s 1ms/step - loss: 0.3978 - accuracy: 0.8367\n",
            "Epoch 54/150\n",
            "125/125 [==============================] - 0s 1ms/step - loss: 0.3931 - accuracy: 0.8344\n",
            "Epoch 55/150\n",
            "125/125 [==============================] - 0s 1ms/step - loss: 0.3822 - accuracy: 0.8449\n",
            "Epoch 56/150\n",
            "125/125 [==============================] - 0s 1ms/step - loss: 0.3915 - accuracy: 0.8384\n",
            "Epoch 57/150\n",
            "125/125 [==============================] - 0s 1ms/step - loss: 0.3864 - accuracy: 0.8407\n",
            "Epoch 58/150\n",
            "125/125 [==============================] - 0s 1ms/step - loss: 0.3942 - accuracy: 0.8402\n",
            "Epoch 59/150\n",
            "125/125 [==============================] - 0s 1ms/step - loss: 0.3897 - accuracy: 0.8393\n",
            "Epoch 60/150\n",
            "125/125 [==============================] - 0s 1ms/step - loss: 0.3972 - accuracy: 0.8404\n",
            "Epoch 61/150\n",
            "125/125 [==============================] - 0s 1ms/step - loss: 0.3895 - accuracy: 0.8425\n",
            "Epoch 62/150\n",
            "125/125 [==============================] - 0s 1ms/step - loss: 0.3826 - accuracy: 0.8407\n",
            "Epoch 63/150\n",
            "125/125 [==============================] - 0s 1ms/step - loss: 0.3854 - accuracy: 0.8402\n",
            "Epoch 64/150\n",
            "125/125 [==============================] - 0s 1ms/step - loss: 0.3841 - accuracy: 0.8427\n",
            "Epoch 65/150\n",
            "125/125 [==============================] - 0s 1ms/step - loss: 0.3852 - accuracy: 0.8413\n",
            "Epoch 66/150\n",
            "125/125 [==============================] - 0s 1ms/step - loss: 0.3955 - accuracy: 0.8369\n",
            "Epoch 67/150\n",
            "125/125 [==============================] - 0s 1ms/step - loss: 0.4014 - accuracy: 0.8346\n",
            "Epoch 68/150\n",
            "125/125 [==============================] - 0s 1ms/step - loss: 0.3915 - accuracy: 0.8387\n",
            "Epoch 69/150\n",
            "125/125 [==============================] - 0s 989us/step - loss: 0.3996 - accuracy: 0.8321\n",
            "Epoch 70/150\n",
            "125/125 [==============================] - 0s 1ms/step - loss: 0.3980 - accuracy: 0.8354\n",
            "Epoch 71/150\n",
            "125/125 [==============================] - 0s 1ms/step - loss: 0.3986 - accuracy: 0.8351\n",
            "Epoch 72/150\n",
            "125/125 [==============================] - 0s 1ms/step - loss: 0.3936 - accuracy: 0.8384\n",
            "Epoch 73/150\n",
            "125/125 [==============================] - 0s 1ms/step - loss: 0.3903 - accuracy: 0.8387\n",
            "Epoch 74/150\n",
            "125/125 [==============================] - 0s 1ms/step - loss: 0.3937 - accuracy: 0.8384\n",
            "Epoch 75/150\n",
            "125/125 [==============================] - 0s 1ms/step - loss: 0.3901 - accuracy: 0.8402\n",
            "Epoch 76/150\n",
            "125/125 [==============================] - 0s 1ms/step - loss: 0.3864 - accuracy: 0.8413\n",
            "Epoch 77/150\n",
            "125/125 [==============================] - 0s 1ms/step - loss: 0.3900 - accuracy: 0.8409\n",
            "Epoch 78/150\n",
            "125/125 [==============================] - 0s 1ms/step - loss: 0.3871 - accuracy: 0.8412\n",
            "Epoch 79/150\n",
            "125/125 [==============================] - 0s 1ms/step - loss: 0.3923 - accuracy: 0.8401\n",
            "Epoch 80/150\n",
            "125/125 [==============================] - 0s 1ms/step - loss: 0.3931 - accuracy: 0.8407\n",
            "Epoch 81/150\n",
            "125/125 [==============================] - 0s 1ms/step - loss: 0.3898 - accuracy: 0.8393\n",
            "Epoch 82/150\n",
            "125/125 [==============================] - 0s 1ms/step - loss: 0.3958 - accuracy: 0.8386\n",
            "Epoch 83/150\n",
            "125/125 [==============================] - 0s 1ms/step - loss: 0.3841 - accuracy: 0.8434\n",
            "Epoch 84/150\n",
            "125/125 [==============================] - 0s 1ms/step - loss: 0.3910 - accuracy: 0.8420\n",
            "Epoch 85/150\n",
            "125/125 [==============================] - 0s 1ms/step - loss: 0.3862 - accuracy: 0.8434\n",
            "Epoch 86/150\n",
            "125/125 [==============================] - 0s 1ms/step - loss: 0.3887 - accuracy: 0.8424\n",
            "Epoch 87/150\n",
            "125/125 [==============================] - 0s 1ms/step - loss: 0.3850 - accuracy: 0.8438\n",
            "Epoch 88/150\n",
            "125/125 [==============================] - 0s 1ms/step - loss: 0.3971 - accuracy: 0.8347\n",
            "Epoch 89/150\n",
            "125/125 [==============================] - 0s 1ms/step - loss: 0.3951 - accuracy: 0.8377\n",
            "Epoch 90/150\n",
            "125/125 [==============================] - 0s 1ms/step - loss: 0.3968 - accuracy: 0.8367\n",
            "Epoch 91/150\n",
            "125/125 [==============================] - 0s 1ms/step - loss: 0.3941 - accuracy: 0.8319\n",
            "Epoch 92/150\n",
            "125/125 [==============================] - 0s 1ms/step - loss: 0.3896 - accuracy: 0.8398\n",
            "Epoch 93/150\n",
            "125/125 [==============================] - 0s 1ms/step - loss: 0.3803 - accuracy: 0.8422\n",
            "Epoch 94/150\n",
            "125/125 [==============================] - 0s 1ms/step - loss: 0.4000 - accuracy: 0.8318\n",
            "Epoch 95/150\n",
            "125/125 [==============================] - 0s 1ms/step - loss: 0.3951 - accuracy: 0.8385\n",
            "Epoch 96/150\n",
            "125/125 [==============================] - 0s 1ms/step - loss: 0.3918 - accuracy: 0.8420\n",
            "Epoch 97/150\n",
            "125/125 [==============================] - 0s 1ms/step - loss: 0.3821 - accuracy: 0.8410\n",
            "Epoch 98/150\n",
            "125/125 [==============================] - 0s 1ms/step - loss: 0.3934 - accuracy: 0.8389\n",
            "Epoch 99/150\n",
            "125/125 [==============================] - 0s 1ms/step - loss: 0.3903 - accuracy: 0.8412\n",
            "Epoch 100/150\n",
            "125/125 [==============================] - 0s 1ms/step - loss: 0.3888 - accuracy: 0.8398\n",
            "Epoch 101/150\n",
            "125/125 [==============================] - 0s 1ms/step - loss: 0.3893 - accuracy: 0.8419\n",
            "Epoch 102/150\n",
            "125/125 [==============================] - 0s 1ms/step - loss: 0.3981 - accuracy: 0.8335\n",
            "Epoch 103/150\n",
            "125/125 [==============================] - 0s 1ms/step - loss: 0.3958 - accuracy: 0.8356\n",
            "Epoch 104/150\n",
            "125/125 [==============================] - 0s 1ms/step - loss: 0.4005 - accuracy: 0.8361\n",
            "Epoch 105/150\n",
            "125/125 [==============================] - 0s 1ms/step - loss: 0.3820 - accuracy: 0.8422\n",
            "Epoch 106/150\n",
            "125/125 [==============================] - 0s 1ms/step - loss: 0.3836 - accuracy: 0.8445\n",
            "Epoch 107/150\n",
            "125/125 [==============================] - 0s 1ms/step - loss: 0.3814 - accuracy: 0.8462\n",
            "Epoch 108/150\n",
            "125/125 [==============================] - 0s 1ms/step - loss: 0.3838 - accuracy: 0.8441\n",
            "Epoch 109/150\n",
            "125/125 [==============================] - 0s 1ms/step - loss: 0.3846 - accuracy: 0.8440\n",
            "Epoch 110/150\n",
            "125/125 [==============================] - 0s 1ms/step - loss: 0.3938 - accuracy: 0.8390\n",
            "Epoch 111/150\n",
            "125/125 [==============================] - 0s 1ms/step - loss: 0.3860 - accuracy: 0.8410\n",
            "Epoch 112/150\n",
            "125/125 [==============================] - 0s 1ms/step - loss: 0.3867 - accuracy: 0.8436\n",
            "Epoch 113/150\n",
            "125/125 [==============================] - 0s 1ms/step - loss: 0.3857 - accuracy: 0.8388\n",
            "Epoch 114/150\n",
            "125/125 [==============================] - 0s 1ms/step - loss: 0.3913 - accuracy: 0.8411\n",
            "Epoch 115/150\n",
            "125/125 [==============================] - 0s 1ms/step - loss: 0.3693 - accuracy: 0.8502\n",
            "Epoch 116/150\n",
            "125/125 [==============================] - 0s 1ms/step - loss: 0.3749 - accuracy: 0.8490\n",
            "Epoch 117/150\n",
            "125/125 [==============================] - 0s 1ms/step - loss: 0.3873 - accuracy: 0.8416\n",
            "Epoch 118/150\n",
            "125/125 [==============================] - 0s 1ms/step - loss: 0.3819 - accuracy: 0.8468\n",
            "Epoch 119/150\n",
            "125/125 [==============================] - 0s 1ms/step - loss: 0.3982 - accuracy: 0.8328\n",
            "Epoch 120/150\n",
            "125/125 [==============================] - 0s 1ms/step - loss: 0.4089 - accuracy: 0.8309\n",
            "Epoch 121/150\n",
            "125/125 [==============================] - 0s 1ms/step - loss: 0.3954 - accuracy: 0.8382\n",
            "Epoch 122/150\n",
            "125/125 [==============================] - 0s 1ms/step - loss: 0.3979 - accuracy: 0.8382\n",
            "Epoch 123/150\n",
            "125/125 [==============================] - 0s 1ms/step - loss: 0.3888 - accuracy: 0.8407\n",
            "Epoch 124/150\n",
            "125/125 [==============================] - 0s 1ms/step - loss: 0.3995 - accuracy: 0.8354\n",
            "Epoch 125/150\n",
            "125/125 [==============================] - 0s 1ms/step - loss: 0.4020 - accuracy: 0.8328\n",
            "Epoch 126/150\n",
            "125/125 [==============================] - 0s 1ms/step - loss: 0.3901 - accuracy: 0.8373\n",
            "Epoch 127/150\n",
            "125/125 [==============================] - 0s 1ms/step - loss: 0.3865 - accuracy: 0.8412\n",
            "Epoch 128/150\n",
            "125/125 [==============================] - 0s 1ms/step - loss: 0.3976 - accuracy: 0.8371\n",
            "Epoch 129/150\n",
            "125/125 [==============================] - 0s 1ms/step - loss: 0.3936 - accuracy: 0.8375\n",
            "Epoch 130/150\n",
            "125/125 [==============================] - 0s 1ms/step - loss: 0.3806 - accuracy: 0.8448\n",
            "Epoch 131/150\n",
            "125/125 [==============================] - 0s 1ms/step - loss: 0.3949 - accuracy: 0.8328\n",
            "Epoch 132/150\n",
            "125/125 [==============================] - 0s 1ms/step - loss: 0.3892 - accuracy: 0.8423\n",
            "Epoch 133/150\n",
            "125/125 [==============================] - 0s 1ms/step - loss: 0.3888 - accuracy: 0.8421\n",
            "Epoch 134/150\n",
            "125/125 [==============================] - 0s 1ms/step - loss: 0.3824 - accuracy: 0.8441\n",
            "Epoch 135/150\n",
            "125/125 [==============================] - 0s 1ms/step - loss: 0.3901 - accuracy: 0.8428\n",
            "Epoch 136/150\n",
            "125/125 [==============================] - 0s 1ms/step - loss: 0.3830 - accuracy: 0.8448\n",
            "Epoch 137/150\n",
            "125/125 [==============================] - 0s 1ms/step - loss: 0.3895 - accuracy: 0.8405\n",
            "Epoch 138/150\n",
            "125/125 [==============================] - 0s 1ms/step - loss: 0.3901 - accuracy: 0.8419\n",
            "Epoch 139/150\n",
            "125/125 [==============================] - 0s 1ms/step - loss: 0.3796 - accuracy: 0.8450\n",
            "Epoch 140/150\n",
            "125/125 [==============================] - 0s 1ms/step - loss: 0.3959 - accuracy: 0.8355\n",
            "Epoch 141/150\n",
            "125/125 [==============================] - 0s 1ms/step - loss: 0.3826 - accuracy: 0.8431\n",
            "Epoch 142/150\n",
            "125/125 [==============================] - 0s 1ms/step - loss: 0.3880 - accuracy: 0.8432\n",
            "Epoch 143/150\n",
            "125/125 [==============================] - 0s 1ms/step - loss: 0.3900 - accuracy: 0.8395\n",
            "Epoch 144/150\n",
            "125/125 [==============================] - 0s 1ms/step - loss: 0.3959 - accuracy: 0.8393\n",
            "Epoch 145/150\n",
            "125/125 [==============================] - 0s 1ms/step - loss: 0.3819 - accuracy: 0.8455\n",
            "Epoch 146/150\n",
            "125/125 [==============================] - 0s 1ms/step - loss: 0.3868 - accuracy: 0.8463\n",
            "Epoch 147/150\n",
            "125/125 [==============================] - 0s 1ms/step - loss: 0.3865 - accuracy: 0.8428\n",
            "Epoch 148/150\n",
            "125/125 [==============================] - 0s 1ms/step - loss: 0.3979 - accuracy: 0.8361\n",
            "Epoch 149/150\n",
            "125/125 [==============================] - 0s 1ms/step - loss: 0.3830 - accuracy: 0.8443\n",
            "Epoch 150/150\n",
            "125/125 [==============================] - 0s 1ms/step - loss: 0.3905 - accuracy: 0.8427\n"
          ],
          "name": "stdout"
        },
        {
          "output_type": "execute_result",
          "data": {
            "text/plain": [
              "<tensorflow.python.keras.callbacks.History at 0x7f4e5be06470>"
            ]
          },
          "metadata": {
            "tags": []
          },
          "execution_count": 22
        }
      ]
    },
    {
      "cell_type": "code",
      "metadata": {
        "id": "pEpugKUQWEzM"
      },
      "source": [
        "# Saving the Neural Network:\r\n",
        "model.save('ANN.h5')"
      ],
      "execution_count": 23,
      "outputs": []
    },
    {
      "cell_type": "code",
      "metadata": {
        "id": "JZ28YryWWU66"
      },
      "source": [
        "from keras.models import load_model\r\n",
        "\r\n",
        "# Neural Network:-\r\n",
        "nn_model = load_model('ANN.h5')\r\n",
        "nn_pred = (nn_model.predict(X_test)>0.5).astype(int)"
      ],
      "execution_count": 24,
      "outputs": []
    },
    {
      "cell_type": "code",
      "metadata": {
        "colab": {
          "base_uri": "https://localhost:8080/"
        },
        "id": "KYhh3XkcWZv1",
        "outputId": "0bcde36a-c301-4025-a65e-f75ddbf220ec"
      },
      "source": [
        "print('The accuracy score for the neural network is: ','\\n\\n',classification_report(rounded_labels,nn_pred))"
      ],
      "execution_count": 25,
      "outputs": [
        {
          "output_type": "stream",
          "text": [
            "The accuracy score for the neural network is:  \n",
            "\n",
            "               precision    recall  f1-score   support\n",
            "\n",
            "           0       0.86      0.96      0.91      1607\n",
            "           1       0.68      0.34      0.45       393\n",
            "\n",
            "    accuracy                           0.84      2000\n",
            "   macro avg       0.77      0.65      0.68      2000\n",
            "weighted avg       0.82      0.84      0.82      2000\n",
            "\n"
          ],
          "name": "stdout"
        }
      ]
    },
    {
      "cell_type": "code",
      "metadata": {
        "id": "dAli0it8Wi7h"
      },
      "source": [
        ""
      ],
      "execution_count": null,
      "outputs": []
    }
  ]
}