{
 "cells": [
  {
   "cell_type": "code",
   "execution_count": 1,
   "metadata": {},
   "outputs": [],
   "source": [
    "import numpy as np\n",
    "import pandas as pd"
   ]
  },
  {
   "cell_type": "code",
   "execution_count": 2,
   "metadata": {},
   "outputs": [],
   "source": [
    "data = pd.read_csv('Churn_Modelling.csv')"
   ]
  },
  {
   "cell_type": "code",
   "execution_count": 3,
   "metadata": {},
   "outputs": [
    {
     "name": "stdout",
     "output_type": "stream",
     "text": [
      "<class 'pandas.core.frame.DataFrame'>\n",
      "RangeIndex: 10000 entries, 0 to 9999\n",
      "Data columns (total 14 columns):\n",
      " #   Column           Non-Null Count  Dtype  \n",
      "---  ------           --------------  -----  \n",
      " 0   RowNumber        10000 non-null  int64  \n",
      " 1   CustomerId       10000 non-null  int64  \n",
      " 2   Surname          10000 non-null  object \n",
      " 3   CreditScore      10000 non-null  int64  \n",
      " 4   Geography        10000 non-null  object \n",
      " 5   Gender           10000 non-null  object \n",
      " 6   Age              10000 non-null  int64  \n",
      " 7   Tenure           10000 non-null  int64  \n",
      " 8   Balance          10000 non-null  float64\n",
      " 9   NumOfProducts    10000 non-null  int64  \n",
      " 10  HasCrCard        10000 non-null  int64  \n",
      " 11  IsActiveMember   10000 non-null  int64  \n",
      " 12  EstimatedSalary  10000 non-null  float64\n",
      " 13  Exited           10000 non-null  int64  \n",
      "dtypes: float64(2), int64(9), object(3)\n",
      "memory usage: 1.1+ MB\n"
     ]
    }
   ],
   "source": [
    "data.info()"
   ]
  },
  {
   "cell_type": "code",
   "execution_count": 4,
   "metadata": {},
   "outputs": [],
   "source": [
    "def preprocess_data(df):\n",
    "    \n",
    "    # Feature selection:-\n",
    "    columns_to_drop =  ['RowNumber','CustomerId','Surname','NumOfProducts']\n",
    "    df = df.drop(columns=columns_to_drop)\n",
    "    \n",
    "    # One-hot encoding categorial columns:-\n",
    "    geography = pd.get_dummies(df['Geography'],drop_first=True)\n",
    "    gender = pd.get_dummies(df['Gender'],drop_first=True)\n",
    "    temp_df = df.drop(['Geography','Gender'],axis=1)\n",
    "    data = pd.concat([temp_df,geography,gender],axis=1)\n",
    "    \n",
    "    return data"
   ]
  },
  {
   "cell_type": "code",
   "execution_count": 5,
   "metadata": {},
   "outputs": [],
   "source": [
    "data = preprocess_data(data)"
   ]
  },
  {
   "cell_type": "code",
   "execution_count": 6,
   "metadata": {},
   "outputs": [
    {
     "data": {
      "text/html": [
       "<div>\n",
       "<style scoped>\n",
       "    .dataframe tbody tr th:only-of-type {\n",
       "        vertical-align: middle;\n",
       "    }\n",
       "\n",
       "    .dataframe tbody tr th {\n",
       "        vertical-align: top;\n",
       "    }\n",
       "\n",
       "    .dataframe thead th {\n",
       "        text-align: right;\n",
       "    }\n",
       "</style>\n",
       "<table border=\"1\" class=\"dataframe\">\n",
       "  <thead>\n",
       "    <tr style=\"text-align: right;\">\n",
       "      <th></th>\n",
       "      <th>CreditScore</th>\n",
       "      <th>Age</th>\n",
       "      <th>Tenure</th>\n",
       "      <th>Balance</th>\n",
       "      <th>HasCrCard</th>\n",
       "      <th>IsActiveMember</th>\n",
       "      <th>EstimatedSalary</th>\n",
       "      <th>Exited</th>\n",
       "      <th>Germany</th>\n",
       "      <th>Spain</th>\n",
       "      <th>Male</th>\n",
       "    </tr>\n",
       "  </thead>\n",
       "  <tbody>\n",
       "    <tr>\n",
       "      <th>0</th>\n",
       "      <td>619</td>\n",
       "      <td>42</td>\n",
       "      <td>2</td>\n",
       "      <td>0.00</td>\n",
       "      <td>1</td>\n",
       "      <td>1</td>\n",
       "      <td>101348.88</td>\n",
       "      <td>1</td>\n",
       "      <td>0</td>\n",
       "      <td>0</td>\n",
       "      <td>0</td>\n",
       "    </tr>\n",
       "    <tr>\n",
       "      <th>1</th>\n",
       "      <td>608</td>\n",
       "      <td>41</td>\n",
       "      <td>1</td>\n",
       "      <td>83807.86</td>\n",
       "      <td>0</td>\n",
       "      <td>1</td>\n",
       "      <td>112542.58</td>\n",
       "      <td>0</td>\n",
       "      <td>0</td>\n",
       "      <td>1</td>\n",
       "      <td>0</td>\n",
       "    </tr>\n",
       "    <tr>\n",
       "      <th>2</th>\n",
       "      <td>502</td>\n",
       "      <td>42</td>\n",
       "      <td>8</td>\n",
       "      <td>159660.80</td>\n",
       "      <td>1</td>\n",
       "      <td>0</td>\n",
       "      <td>113931.57</td>\n",
       "      <td>1</td>\n",
       "      <td>0</td>\n",
       "      <td>0</td>\n",
       "      <td>0</td>\n",
       "    </tr>\n",
       "    <tr>\n",
       "      <th>3</th>\n",
       "      <td>699</td>\n",
       "      <td>39</td>\n",
       "      <td>1</td>\n",
       "      <td>0.00</td>\n",
       "      <td>0</td>\n",
       "      <td>0</td>\n",
       "      <td>93826.63</td>\n",
       "      <td>0</td>\n",
       "      <td>0</td>\n",
       "      <td>0</td>\n",
       "      <td>0</td>\n",
       "    </tr>\n",
       "    <tr>\n",
       "      <th>4</th>\n",
       "      <td>850</td>\n",
       "      <td>43</td>\n",
       "      <td>2</td>\n",
       "      <td>125510.82</td>\n",
       "      <td>1</td>\n",
       "      <td>1</td>\n",
       "      <td>79084.10</td>\n",
       "      <td>0</td>\n",
       "      <td>0</td>\n",
       "      <td>1</td>\n",
       "      <td>0</td>\n",
       "    </tr>\n",
       "  </tbody>\n",
       "</table>\n",
       "</div>"
      ],
      "text/plain": [
       "   CreditScore  Age  Tenure    Balance  HasCrCard  IsActiveMember  \\\n",
       "0          619   42       2       0.00          1               1   \n",
       "1          608   41       1   83807.86          0               1   \n",
       "2          502   42       8  159660.80          1               0   \n",
       "3          699   39       1       0.00          0               0   \n",
       "4          850   43       2  125510.82          1               1   \n",
       "\n",
       "   EstimatedSalary  Exited  Germany  Spain  Male  \n",
       "0        101348.88       1        0      0     0  \n",
       "1        112542.58       0        0      1     0  \n",
       "2        113931.57       1        0      0     0  \n",
       "3         93826.63       0        0      0     0  \n",
       "4         79084.10       0        0      1     0  "
      ]
     },
     "execution_count": 6,
     "metadata": {},
     "output_type": "execute_result"
    }
   ],
   "source": [
    "data.head()"
   ]
  },
  {
   "cell_type": "code",
   "execution_count": 7,
   "metadata": {},
   "outputs": [],
   "source": [
    "from sklearn.model_selection import train_test_split\n",
    "from sklearn.preprocessing import StandardScaler"
   ]
  },
  {
   "cell_type": "code",
   "execution_count": 8,
   "metadata": {},
   "outputs": [],
   "source": [
    "# Splitting and Feature scaling:\n",
    "\n",
    "X = data.drop(columns=['Exited'])\n",
    "y = data['Exited']\n",
    "\n",
    "X_train, X_test, y_train, y_test= train_test_split(X,y,test_size=0.2,random_state=42)"
   ]
  },
  {
   "cell_type": "code",
   "execution_count": 9,
   "metadata": {},
   "outputs": [],
   "source": [
    "# Neural Network:-\n",
    "from keras.models import Sequential\n",
    "from keras.layers import Dense\n",
    "from keras.layers import Dropout\n",
    "from keras.utils import to_categorical\n",
    "# Ensemble mwthods:-\n",
    "from sklearn.ensemble import RandomForestClassifier, AdaBoostClassifier, GradientBoostingClassifier\n",
    "from sklearn.model_selection import RandomizedSearchCV"
   ]
  },
  {
   "cell_type": "code",
   "execution_count": 10,
   "metadata": {},
   "outputs": [],
   "source": [
    "# Scaling:-\n",
    "scaler= StandardScaler()\n",
    "X_train = scaler.fit_transform(X_train)\n",
    "X_test = scaler.transform(X_test)\n",
    "\n",
    "# Convert X_test to categorical:-\n",
    "nn_y_test = to_categorical(y_test)\n",
    "rounded_labels=np.argmax(nn_y_test, axis=1)"
   ]
  },
  {
   "cell_type": "code",
   "execution_count": 11,
   "metadata": {},
   "outputs": [
    {
     "data": {
      "text/plain": [
       "array([0, 0, 0, ..., 1, 1, 1], dtype=int64)"
      ]
     },
     "execution_count": 11,
     "metadata": {},
     "output_type": "execute_result"
    }
   ],
   "source": [
    "rounded_labels"
   ]
  },
  {
   "cell_type": "code",
   "execution_count": 12,
   "metadata": {},
   "outputs": [
    {
     "data": {
      "text/plain": [
       "(8000, 10)"
      ]
     },
     "execution_count": 12,
     "metadata": {},
     "output_type": "execute_result"
    }
   ],
   "source": [
    "X_train.shape"
   ]
  },
  {
   "cell_type": "markdown",
   "metadata": {},
   "source": [
    "# Model:-"
   ]
  },
  {
   "cell_type": "code",
   "execution_count": null,
   "metadata": {},
   "outputs": [],
   "source": []
  },
  {
   "cell_type": "code",
   "execution_count": 13,
   "metadata": {},
   "outputs": [
    {
     "name": "stdout",
     "output_type": "stream",
     "text": [
      "Model: \"sequential\"\n",
      "_________________________________________________________________\n",
      "Layer (type)                 Output Shape              Param #   \n",
      "=================================================================\n",
      "dense (Dense)                (None, 8)                 88        \n",
      "_________________________________________________________________\n",
      "dense_1 (Dense)              (None, 6)                 54        \n",
      "_________________________________________________________________\n",
      "dense_2 (Dense)              (None, 6)                 42        \n",
      "_________________________________________________________________\n",
      "dense_3 (Dense)              (None, 1)                 7         \n",
      "=================================================================\n",
      "Total params: 191\n",
      "Trainable params: 191\n",
      "Non-trainable params: 0\n",
      "_________________________________________________________________\n"
     ]
    }
   ],
   "source": [
    "model = Sequential()\n",
    "model.add(Dense(units=8,kernel_initializer='he_uniform',activation='relu',input_dim=10))\n",
    "model.add(Dense(units=6,kernel_initializer='he_uniform',activation='relu'))\n",
    "model.add(Dense(units=6,kernel_initializer='he_uniform',activation='relu'))\n",
    "model.add(Dense(units=1,kernel_initializer='glorot_uniform',activation='sigmoid'))\n",
    "model.compile(optimizer='adam',loss='binary_crossentropy',metrics=['accuracy'])\n",
    "model.summary()"
   ]
  },
  {
   "cell_type": "code",
   "execution_count": 14,
   "metadata": {},
   "outputs": [
    {
     "name": "stdout",
     "output_type": "stream",
     "text": [
      "Epoch 1/150\n",
      "63/63 [==============================] - 0s 945us/step - loss: 0.5751 - accuracy: 0.7945\n",
      "Epoch 2/150\n",
      "63/63 [==============================] - 0s 914us/step - loss: 0.5271 - accuracy: 0.7945\n",
      "Epoch 3/150\n",
      "63/63 [==============================] - 0s 921us/step - loss: 0.5030 - accuracy: 0.7945\n",
      "Epoch 4/150\n",
      "63/63 [==============================] - 0s 921us/step - loss: 0.4895 - accuracy: 0.7945\n",
      "Epoch 5/150\n",
      "63/63 [==============================] - 0s 889us/step - loss: 0.4805 - accuracy: 0.7945\n",
      "Epoch 6/150\n",
      "63/63 [==============================] - 0s 905us/step - loss: 0.4732 - accuracy: 0.7945\n",
      "Epoch 7/150\n",
      "63/63 [==============================] - 0s 1ms/step - loss: 0.4668 - accuracy: 0.7945\n",
      "Epoch 8/150\n",
      "63/63 [==============================] - 0s 1ms/step - loss: 0.4608 - accuracy: 0.7945\n",
      "Epoch 9/150\n",
      "63/63 [==============================] - 0s 905us/step - loss: 0.4549 - accuracy: 0.7945\n",
      "Epoch 10/150\n",
      "63/63 [==============================] - 0s 905us/step - loss: 0.4498 - accuracy: 0.7945\n",
      "Epoch 11/150\n",
      "63/63 [==============================] - 0s 1000us/step - loss: 0.4451 - accuracy: 0.7945\n",
      "Epoch 12/150\n",
      "63/63 [==============================] - 0s 889us/step - loss: 0.4411 - accuracy: 0.7945\n",
      "Epoch 13/150\n",
      "63/63 [==============================] - 0s 1000us/step - loss: 0.4379 - accuracy: 0.7945\n",
      "Epoch 14/150\n",
      "63/63 [==============================] - 0s 905us/step - loss: 0.4353 - accuracy: 0.7945\n",
      "Epoch 15/150\n",
      "63/63 [==============================] - 0s 936us/step - loss: 0.4329 - accuracy: 0.7945\n",
      "Epoch 16/150\n",
      "63/63 [==============================] - 0s 921us/step - loss: 0.4304 - accuracy: 0.7945\n",
      "Epoch 17/150\n",
      "63/63 [==============================] - 0s 873us/step - loss: 0.4280 - accuracy: 0.7945\n",
      "Epoch 18/150\n",
      "63/63 [==============================] - 0s 905us/step - loss: 0.4258 - accuracy: 0.7956\n",
      "Epoch 19/150\n",
      "63/63 [==============================] - 0s 905us/step - loss: 0.4240 - accuracy: 0.80590s - loss: 0.4258 - accuracy: 0.80\n",
      "Epoch 20/150\n",
      "63/63 [==============================] - 0s 857us/step - loss: 0.4224 - accuracy: 0.8100\n",
      "Epoch 21/150\n",
      "63/63 [==============================] - 0s 952us/step - loss: 0.4209 - accuracy: 0.8150\n",
      "Epoch 22/150\n",
      "63/63 [==============================] - 0s 1ms/step - loss: 0.4198 - accuracy: 0.8169\n",
      "Epoch 23/150\n",
      "63/63 [==============================] - 0s 1ms/step - loss: 0.4189 - accuracy: 0.8196\n",
      "Epoch 24/150\n",
      "63/63 [==============================] - 0s 1ms/step - loss: 0.4178 - accuracy: 0.8236\n",
      "Epoch 25/150\n",
      "63/63 [==============================] - 0s 1ms/step - loss: 0.4169 - accuracy: 0.8266\n",
      "Epoch 26/150\n",
      "63/63 [==============================] - 0s 1ms/step - loss: 0.4163 - accuracy: 0.8278\n",
      "Epoch 27/150\n",
      "63/63 [==============================] - 0s 1ms/step - loss: 0.4156 - accuracy: 0.8280\n",
      "Epoch 28/150\n",
      "63/63 [==============================] - 0s 1ms/step - loss: 0.4148 - accuracy: 0.8282\n",
      "Epoch 29/150\n",
      "63/63 [==============================] - 0s 1ms/step - loss: 0.4141 - accuracy: 0.8295\n",
      "Epoch 30/150\n",
      "63/63 [==============================] - 0s 1ms/step - loss: 0.4133 - accuracy: 0.8296\n",
      "Epoch 31/150\n",
      "63/63 [==============================] - 0s 1ms/step - loss: 0.4126 - accuracy: 0.8303\n",
      "Epoch 32/150\n",
      "63/63 [==============================] - 0s 1ms/step - loss: 0.4122 - accuracy: 0.8309\n",
      "Epoch 33/150\n",
      "63/63 [==============================] - 0s 1ms/step - loss: 0.4114 - accuracy: 0.8309\n",
      "Epoch 34/150\n",
      "63/63 [==============================] - 0s 1ms/step - loss: 0.4111 - accuracy: 0.8296\n",
      "Epoch 35/150\n",
      "63/63 [==============================] - 0s 1ms/step - loss: 0.4106 - accuracy: 0.8309\n",
      "Epoch 36/150\n",
      "63/63 [==============================] - 0s 1ms/step - loss: 0.4098 - accuracy: 0.8315\n",
      "Epoch 37/150\n",
      "63/63 [==============================] - 0s 1ms/step - loss: 0.4093 - accuracy: 0.8309\n",
      "Epoch 38/150\n",
      "63/63 [==============================] - 0s 1ms/step - loss: 0.4089 - accuracy: 0.8311\n",
      "Epoch 39/150\n",
      "63/63 [==============================] - 0s 1ms/step - loss: 0.4083 - accuracy: 0.8320\n",
      "Epoch 40/150\n",
      "63/63 [==============================] - 0s 1ms/step - loss: 0.4079 - accuracy: 0.8313\n",
      "Epoch 41/150\n",
      "63/63 [==============================] - 0s 1ms/step - loss: 0.4074 - accuracy: 0.8313\n",
      "Epoch 42/150\n",
      "63/63 [==============================] - 0s 1ms/step - loss: 0.4069 - accuracy: 0.8326\n",
      "Epoch 43/150\n",
      "63/63 [==============================] - 0s 1ms/step - loss: 0.4066 - accuracy: 0.8322\n",
      "Epoch 44/150\n",
      "63/63 [==============================] - 0s 1ms/step - loss: 0.4063 - accuracy: 0.8325\n",
      "Epoch 45/150\n",
      "63/63 [==============================] - 0s 1ms/step - loss: 0.4055 - accuracy: 0.8329\n",
      "Epoch 46/150\n",
      "63/63 [==============================] - 0s 1ms/step - loss: 0.4053 - accuracy: 0.8332\n",
      "Epoch 47/150\n",
      "63/63 [==============================] - 0s 1ms/step - loss: 0.4051 - accuracy: 0.8328\n",
      "Epoch 48/150\n",
      "63/63 [==============================] - 0s 1ms/step - loss: 0.4045 - accuracy: 0.8339\n",
      "Epoch 49/150\n",
      "63/63 [==============================] - 0s 1ms/step - loss: 0.4040 - accuracy: 0.8340\n",
      "Epoch 50/150\n",
      "63/63 [==============================] - 0s 1ms/step - loss: 0.4038 - accuracy: 0.8336\n",
      "Epoch 51/150\n",
      "63/63 [==============================] - 0s 1ms/step - loss: 0.4034 - accuracy: 0.8341\n",
      "Epoch 52/150\n",
      "63/63 [==============================] - 0s 1ms/step - loss: 0.4030 - accuracy: 0.8351\n",
      "Epoch 53/150\n",
      "63/63 [==============================] - 0s 1ms/step - loss: 0.4027 - accuracy: 0.8355\n",
      "Epoch 54/150\n",
      "63/63 [==============================] - 0s 1ms/step - loss: 0.4024 - accuracy: 0.8355\n",
      "Epoch 55/150\n",
      "63/63 [==============================] - 0s 1000us/step - loss: 0.4021 - accuracy: 0.8355\n",
      "Epoch 56/150\n",
      "63/63 [==============================] - 0s 984us/step - loss: 0.4017 - accuracy: 0.8344\n",
      "Epoch 57/150\n",
      "63/63 [==============================] - 0s 1ms/step - loss: 0.4016 - accuracy: 0.8350\n",
      "Epoch 58/150\n",
      "63/63 [==============================] - 0s 2ms/step - loss: 0.4016 - accuracy: 0.8350\n",
      "Epoch 59/150\n",
      "63/63 [==============================] - ETA: 0s - loss: 0.4065 - accuracy: 0.83 - 0s 2ms/step - loss: 0.4010 - accuracy: 0.8355\n",
      "Epoch 60/150\n",
      "63/63 [==============================] - 0s 1ms/step - loss: 0.4009 - accuracy: 0.8359\n",
      "Epoch 61/150\n",
      "63/63 [==============================] - 0s 2ms/step - loss: 0.4005 - accuracy: 0.8364\n",
      "Epoch 62/150\n",
      "63/63 [==============================] - 0s 1ms/step - loss: 0.4003 - accuracy: 0.8355\n",
      "Epoch 63/150\n",
      "63/63 [==============================] - 0s 1ms/step - loss: 0.4001 - accuracy: 0.8367\n",
      "Epoch 64/150\n",
      "63/63 [==============================] - 0s 1ms/step - loss: 0.3999 - accuracy: 0.8363\n",
      "Epoch 65/150\n",
      "63/63 [==============================] - 0s 1ms/step - loss: 0.3997 - accuracy: 0.8364\n",
      "Epoch 66/150\n",
      "63/63 [==============================] - 0s 1ms/step - loss: 0.3995 - accuracy: 0.8365\n",
      "Epoch 67/150\n",
      "63/63 [==============================] - 0s 1ms/step - loss: 0.3991 - accuracy: 0.8366\n",
      "Epoch 68/150\n",
      "63/63 [==============================] - 0s 1ms/step - loss: 0.3990 - accuracy: 0.8363\n",
      "Epoch 69/150\n",
      "63/63 [==============================] - 0s 1ms/step - loss: 0.3990 - accuracy: 0.8354\n",
      "Epoch 70/150\n",
      "63/63 [==============================] - 0s 1ms/step - loss: 0.3989 - accuracy: 0.8381\n",
      "Epoch 71/150\n",
      "63/63 [==============================] - 0s 1ms/step - loss: 0.3985 - accuracy: 0.8366\n",
      "Epoch 72/150\n",
      "63/63 [==============================] - 0s 1ms/step - loss: 0.3983 - accuracy: 0.8382\n",
      "Epoch 73/150\n",
      "63/63 [==============================] - 0s 1ms/step - loss: 0.3983 - accuracy: 0.8382\n",
      "Epoch 74/150\n",
      "63/63 [==============================] - 0s 1ms/step - loss: 0.3982 - accuracy: 0.8364\n",
      "Epoch 75/150\n",
      "63/63 [==============================] - 0s 1ms/step - loss: 0.3981 - accuracy: 0.8378\n",
      "Epoch 76/150\n",
      "63/63 [==============================] - 0s 984us/step - loss: 0.3977 - accuracy: 0.8379\n",
      "Epoch 77/150\n",
      "63/63 [==============================] - 0s 1ms/step - loss: 0.3976 - accuracy: 0.8372\n",
      "Epoch 78/150\n",
      "63/63 [==============================] - 0s 1ms/step - loss: 0.3974 - accuracy: 0.8388\n",
      "Epoch 79/150\n",
      "63/63 [==============================] - 0s 984us/step - loss: 0.3974 - accuracy: 0.8379\n",
      "Epoch 80/150\n",
      "63/63 [==============================] - 0s 1ms/step - loss: 0.3971 - accuracy: 0.8376\n",
      "Epoch 81/150\n"
     ]
    },
    {
     "name": "stdout",
     "output_type": "stream",
     "text": [
      "63/63 [==============================] - 0s 1ms/step - loss: 0.3970 - accuracy: 0.8380\n",
      "Epoch 82/150\n",
      "63/63 [==============================] - 0s 1ms/step - loss: 0.3967 - accuracy: 0.8374\n",
      "Epoch 83/150\n",
      "63/63 [==============================] - 0s 1ms/step - loss: 0.3967 - accuracy: 0.8385\n",
      "Epoch 84/150\n",
      "63/63 [==============================] - 0s 1000us/step - loss: 0.3966 - accuracy: 0.8391\n",
      "Epoch 85/150\n",
      "63/63 [==============================] - 0s 1ms/step - loss: 0.3962 - accuracy: 0.8389\n",
      "Epoch 86/150\n",
      "63/63 [==============================] - 0s 1ms/step - loss: 0.3962 - accuracy: 0.8389\n",
      "Epoch 87/150\n",
      "63/63 [==============================] - 0s 984us/step - loss: 0.3964 - accuracy: 0.8390\n",
      "Epoch 88/150\n",
      "63/63 [==============================] - 0s 1ms/step - loss: 0.3958 - accuracy: 0.8390\n",
      "Epoch 89/150\n",
      "63/63 [==============================] - 0s 1ms/step - loss: 0.3963 - accuracy: 0.8379\n",
      "Epoch 90/150\n",
      "63/63 [==============================] - 0s 1ms/step - loss: 0.3958 - accuracy: 0.8393\n",
      "Epoch 91/150\n",
      "63/63 [==============================] - 0s 1ms/step - loss: 0.3957 - accuracy: 0.8382\n",
      "Epoch 92/150\n",
      "63/63 [==============================] - 0s 1000us/step - loss: 0.3957 - accuracy: 0.8386\n",
      "Epoch 93/150\n",
      "63/63 [==============================] - 0s 1ms/step - loss: 0.3955 - accuracy: 0.8394\n",
      "Epoch 94/150\n",
      "63/63 [==============================] - 0s 1ms/step - loss: 0.3953 - accuracy: 0.8391\n",
      "Epoch 95/150\n",
      "63/63 [==============================] - 0s 1ms/step - loss: 0.3952 - accuracy: 0.8389\n",
      "Epoch 96/150\n",
      "63/63 [==============================] - 0s 1000us/step - loss: 0.3952 - accuracy: 0.8395\n",
      "Epoch 97/150\n",
      "63/63 [==============================] - 0s 1000us/step - loss: 0.3950 - accuracy: 0.8386\n",
      "Epoch 98/150\n",
      "63/63 [==============================] - 0s 1ms/step - loss: 0.3954 - accuracy: 0.8396\n",
      "Epoch 99/150\n",
      "63/63 [==============================] - 0s 1ms/step - loss: 0.3947 - accuracy: 0.8390\n",
      "Epoch 100/150\n",
      "63/63 [==============================] - 0s 1ms/step - loss: 0.3948 - accuracy: 0.8397\n",
      "Epoch 101/150\n",
      "63/63 [==============================] - 0s 1ms/step - loss: 0.3948 - accuracy: 0.8389\n",
      "Epoch 102/150\n",
      "63/63 [==============================] - 0s 1000us/step - loss: 0.3946 - accuracy: 0.8385\n",
      "Epoch 103/150\n",
      "63/63 [==============================] - 0s 1ms/step - loss: 0.3944 - accuracy: 0.8393\n",
      "Epoch 104/150\n",
      "63/63 [==============================] - 0s 1ms/step - loss: 0.3946 - accuracy: 0.8385\n",
      "Epoch 105/150\n",
      "63/63 [==============================] - 0s 1ms/step - loss: 0.3942 - accuracy: 0.8389\n",
      "Epoch 106/150\n",
      "63/63 [==============================] - 0s 1ms/step - loss: 0.3943 - accuracy: 0.8400\n",
      "Epoch 107/150\n",
      "63/63 [==============================] - 0s 1000us/step - loss: 0.3940 - accuracy: 0.8391\n",
      "Epoch 108/150\n",
      "63/63 [==============================] - 0s 1ms/step - loss: 0.3939 - accuracy: 0.8386\n",
      "Epoch 109/150\n",
      "63/63 [==============================] - 0s 1ms/step - loss: 0.3936 - accuracy: 0.8394\n",
      "Epoch 110/150\n",
      "63/63 [==============================] - 0s 1ms/step - loss: 0.3938 - accuracy: 0.8389\n",
      "Epoch 111/150\n",
      "63/63 [==============================] - 0s 1ms/step - loss: 0.3936 - accuracy: 0.8390\n",
      "Epoch 112/150\n",
      "63/63 [==============================] - 0s 1000us/step - loss: 0.3935 - accuracy: 0.8410\n",
      "Epoch 113/150\n",
      "63/63 [==============================] - 0s 1000us/step - loss: 0.3935 - accuracy: 0.8393\n",
      "Epoch 114/150\n",
      "63/63 [==============================] - 0s 1000us/step - loss: 0.3937 - accuracy: 0.8394\n",
      "Epoch 115/150\n",
      "63/63 [==============================] - 0s 1000us/step - loss: 0.3934 - accuracy: 0.8397\n",
      "Epoch 116/150\n",
      "63/63 [==============================] - 0s 1ms/step - loss: 0.3932 - accuracy: 0.8385\n",
      "Epoch 117/150\n",
      "63/63 [==============================] - 0s 1ms/step - loss: 0.3933 - accuracy: 0.8391\n",
      "Epoch 118/150\n",
      "63/63 [==============================] - 0s 1ms/step - loss: 0.3933 - accuracy: 0.8396\n",
      "Epoch 119/150\n",
      "63/63 [==============================] - 0s 1ms/step - loss: 0.3933 - accuracy: 0.8390\n",
      "Epoch 120/150\n",
      "63/63 [==============================] - 0s 1000us/step - loss: 0.3928 - accuracy: 0.8396\n",
      "Epoch 121/150\n",
      "63/63 [==============================] - 0s 1ms/step - loss: 0.3929 - accuracy: 0.8390\n",
      "Epoch 122/150\n",
      "63/63 [==============================] - 0s 1ms/step - loss: 0.3929 - accuracy: 0.8384\n",
      "Epoch 123/150\n",
      "63/63 [==============================] - 0s 1ms/step - loss: 0.3929 - accuracy: 0.8386\n",
      "Epoch 124/150\n",
      "63/63 [==============================] - 0s 1000us/step - loss: 0.3928 - accuracy: 0.8390\n",
      "Epoch 125/150\n",
      "63/63 [==============================] - 0s 1ms/step - loss: 0.3928 - accuracy: 0.8381\n",
      "Epoch 126/150\n",
      "63/63 [==============================] - 0s 1ms/step - loss: 0.3927 - accuracy: 0.8388\n",
      "Epoch 127/150\n",
      "63/63 [==============================] - 0s 1ms/step - loss: 0.3925 - accuracy: 0.8369\n",
      "Epoch 128/150\n",
      "63/63 [==============================] - 0s 1ms/step - loss: 0.3926 - accuracy: 0.8386\n",
      "Epoch 129/150\n",
      "63/63 [==============================] - 0s 1ms/step - loss: 0.3926 - accuracy: 0.8388\n",
      "Epoch 130/150\n",
      "63/63 [==============================] - 0s 1ms/step - loss: 0.3922 - accuracy: 0.8382\n",
      "Epoch 131/150\n",
      "63/63 [==============================] - 0s 1ms/step - loss: 0.3925 - accuracy: 0.8396\n",
      "Epoch 132/150\n",
      "63/63 [==============================] - 0s 1000us/step - loss: 0.3924 - accuracy: 0.8381\n",
      "Epoch 133/150\n",
      "63/63 [==============================] - 0s 2ms/step - loss: 0.3923 - accuracy: 0.8393\n",
      "Epoch 134/150\n",
      "63/63 [==============================] - 0s 1ms/step - loss: 0.3919 - accuracy: 0.8385\n",
      "Epoch 135/150\n",
      "63/63 [==============================] - 0s 1000us/step - loss: 0.3923 - accuracy: 0.8394\n",
      "Epoch 136/150\n",
      "63/63 [==============================] - 0s 1ms/step - loss: 0.3921 - accuracy: 0.8389\n",
      "Epoch 137/150\n",
      "63/63 [==============================] - 0s 1ms/step - loss: 0.3921 - accuracy: 0.8390\n",
      "Epoch 138/150\n",
      "63/63 [==============================] - 0s 1ms/step - loss: 0.3922 - accuracy: 0.8388\n",
      "Epoch 139/150\n",
      "63/63 [==============================] - 0s 1ms/step - loss: 0.3917 - accuracy: 0.8381\n",
      "Epoch 140/150\n",
      "63/63 [==============================] - 0s 1ms/step - loss: 0.3921 - accuracy: 0.8390\n",
      "Epoch 141/150\n",
      "63/63 [==============================] - 0s 1000us/step - loss: 0.3920 - accuracy: 0.8393\n",
      "Epoch 142/150\n",
      "63/63 [==============================] - 0s 1ms/step - loss: 0.3918 - accuracy: 0.8381\n",
      "Epoch 143/150\n",
      "63/63 [==============================] - 0s 1ms/step - loss: 0.3915 - accuracy: 0.8386\n",
      "Epoch 144/150\n",
      "63/63 [==============================] - 0s 1000us/step - loss: 0.3916 - accuracy: 0.8381\n",
      "Epoch 145/150\n",
      "63/63 [==============================] - 0s 1ms/step - loss: 0.3917 - accuracy: 0.8385\n",
      "Epoch 146/150\n",
      "63/63 [==============================] - 0s 1ms/step - loss: 0.3915 - accuracy: 0.8390\n",
      "Epoch 147/150\n",
      "63/63 [==============================] - 0s 1ms/step - loss: 0.3920 - accuracy: 0.8380\n",
      "Epoch 148/150\n",
      "63/63 [==============================] - 0s 1ms/step - loss: 0.3913 - accuracy: 0.8386\n",
      "Epoch 149/150\n",
      "63/63 [==============================] - 0s 1ms/step - loss: 0.3914 - accuracy: 0.8388\n",
      "Epoch 150/150\n",
      "63/63 [==============================] - 0s 1ms/step - loss: 0.3913 - accuracy: 0.8390\n"
     ]
    },
    {
     "data": {
      "text/plain": [
       "<tensorflow.python.keras.callbacks.History at 0x27f0559d7c0>"
      ]
     },
     "execution_count": 14,
     "metadata": {},
     "output_type": "execute_result"
    }
   ],
   "source": [
    "model.fit(X_train,y_train,epochs=150,batch_size=128)"
   ]
  },
  {
   "cell_type": "code",
   "execution_count": null,
   "metadata": {},
   "outputs": [],
   "source": []
  },
  {
   "cell_type": "markdown",
   "metadata": {},
   "source": [
    "# Random Forest:-"
   ]
  },
  {
   "cell_type": "code",
   "execution_count": 15,
   "metadata": {},
   "outputs": [],
   "source": [
    "param_dist = {'n_estimators':[x for x in np.arange(100,1200,100)],\n",
    "             'max_features':['log2','sqrt'],\n",
    "             'max_depth':[8,16,24,32],\n",
    "             'criterion':['gini','entropy']}\n",
    "\n",
    "rfc = RandomForestClassifier()\n",
    "\n",
    "r_search = RandomizedSearchCV(estimator=rfc,param_distributions=param_dist,scoring='accuracy',n_jobs=-1)"
   ]
  },
  {
   "cell_type": "code",
   "execution_count": 16,
   "metadata": {},
   "outputs": [
    {
     "data": {
      "text/plain": [
       "RandomizedSearchCV(estimator=RandomForestClassifier(), n_jobs=-1,\n",
       "                   param_distributions={'criterion': ['gini', 'entropy'],\n",
       "                                        'max_depth': [8, 16, 24, 32],\n",
       "                                        'max_features': ['log2', 'sqrt'],\n",
       "                                        'n_estimators': [100, 200, 300, 400,\n",
       "                                                         500, 600, 700, 800,\n",
       "                                                         900, 1000, 1100]},\n",
       "                   scoring='accuracy')"
      ]
     },
     "execution_count": 16,
     "metadata": {},
     "output_type": "execute_result"
    }
   ],
   "source": [
    "r_search.fit(X_train,y_train)"
   ]
  },
  {
   "cell_type": "code",
   "execution_count": 17,
   "metadata": {},
   "outputs": [
    {
     "data": {
      "text/plain": [
       "{'n_estimators': 400,\n",
       " 'max_features': 'log2',\n",
       " 'max_depth': 8,\n",
       " 'criterion': 'gini'}"
      ]
     },
     "execution_count": 17,
     "metadata": {},
     "output_type": "execute_result"
    }
   ],
   "source": [
    "r_search.best_params_"
   ]
  },
  {
   "cell_type": "markdown",
   "metadata": {},
   "source": [
    "# Gradient Boosting classifer:-"
   ]
  },
  {
   "cell_type": "code",
   "execution_count": 18,
   "metadata": {},
   "outputs": [],
   "source": [
    "gbc = GradientBoostingClassifier()\n",
    "\n",
    "gb_param_dist = {'n_estimators':[x for x in np.arange(100,600,50)],\n",
    "                'learning_rate':[y for y in np.arange(0.25,1.0,0.25)],\n",
    "                'max_features':['sqrt','log2']}\n",
    "\n",
    "gb_search = RandomizedSearchCV(estimator=gbc,param_distributions=gb_param_dist,scoring='accuracy',n_jobs=-1)"
   ]
  },
  {
   "cell_type": "code",
   "execution_count": 19,
   "metadata": {},
   "outputs": [
    {
     "data": {
      "text/plain": [
       "RandomizedSearchCV(estimator=GradientBoostingClassifier(), n_jobs=-1,\n",
       "                   param_distributions={'learning_rate': [0.25, 0.5, 0.75],\n",
       "                                        'max_features': ['sqrt', 'log2'],\n",
       "                                        'n_estimators': [100, 150, 200, 250,\n",
       "                                                         300, 350, 400, 450,\n",
       "                                                         500, 550]},\n",
       "                   scoring='accuracy')"
      ]
     },
     "execution_count": 19,
     "metadata": {},
     "output_type": "execute_result"
    }
   ],
   "source": [
    "gb_search.fit(X_train,y_train)"
   ]
  },
  {
   "cell_type": "code",
   "execution_count": 20,
   "metadata": {},
   "outputs": [
    {
     "data": {
      "text/plain": [
       "0.83375"
      ]
     },
     "execution_count": 20,
     "metadata": {},
     "output_type": "execute_result"
    }
   ],
   "source": [
    "gb_search.best_score_"
   ]
  },
  {
   "cell_type": "markdown",
   "metadata": {},
   "source": [
    "# Saving models:-"
   ]
  },
  {
   "cell_type": "code",
   "execution_count": 21,
   "metadata": {},
   "outputs": [],
   "source": [
    "import pickle\n",
    "from keras.models import load_model \n",
    "from sklearn.metrics import classification_report, accuracy_score"
   ]
  },
  {
   "cell_type": "code",
   "execution_count": 22,
   "metadata": {},
   "outputs": [],
   "source": [
    "pickle.dump(gb_search.best_estimator_,open('Gradient_Boost_Model.pkl','wb'))\n",
    "pickle.dump(r_search.best_estimator_,open('Random_Forest_Model.pkl','wb'))"
   ]
  },
  {
   "cell_type": "code",
   "execution_count": 23,
   "metadata": {},
   "outputs": [],
   "source": [
    "# Saving the Neural Network:\n",
    "model.save('ANN.h5')"
   ]
  },
  {
   "cell_type": "markdown",
   "metadata": {},
   "source": [
    "## Predictions:-"
   ]
  },
  {
   "cell_type": "code",
   "execution_count": 24,
   "metadata": {},
   "outputs": [],
   "source": [
    "# Random Forest Classifier:-\n",
    "rf_model = pickle.load(open('Random_Forest_Model.pkl','rb'))\n",
    "rf_pred = rf_model.predict(X_test)\n",
    "\n",
    "# Gradient Boost Classifier:-\n",
    "gb_model = pickle.load(open('Gradient_Boost_Model.pkl','rb'))\n",
    "gb_pred = gb_model.predict(X_test)\n",
    "\n",
    "# Neural Network:-\n",
    "nn_model = load_model('ANN.h5')\n",
    "nn_pred = (nn_model.predict(X_test)>0.5).astype(int)"
   ]
  },
  {
   "cell_type": "code",
   "execution_count": 25,
   "metadata": {},
   "outputs": [
    {
     "name": "stdout",
     "output_type": "stream",
     "text": [
      "The classification report for Random Forest model is:  \n",
      "\n",
      "               precision    recall  f1-score   support\n",
      "\n",
      "           0       0.85      0.97      0.91      1607\n",
      "           1       0.74      0.32      0.45       393\n",
      "\n",
      "    accuracy                           0.84      2000\n",
      "   macro avg       0.80      0.65      0.68      2000\n",
      "weighted avg       0.83      0.84      0.82      2000\n",
      "\n"
     ]
    }
   ],
   "source": [
    "print('The classification report for Random Forest model is: ','\\n\\n',classification_report(y_test,rf_pred))"
   ]
  },
  {
   "cell_type": "code",
   "execution_count": 26,
   "metadata": {},
   "outputs": [
    {
     "name": "stdout",
     "output_type": "stream",
     "text": [
      "The classification report for Gradient Boost model is:  \n",
      "\n",
      "               precision    recall  f1-score   support\n",
      "\n",
      "           0       0.86      0.96      0.91      1607\n",
      "           1       0.68      0.38      0.49       393\n",
      "\n",
      "    accuracy                           0.84      2000\n",
      "   macro avg       0.77      0.67      0.70      2000\n",
      "weighted avg       0.83      0.84      0.83      2000\n",
      "\n"
     ]
    }
   ],
   "source": [
    "print('The classification report for Gradient Boost model is: ','\\n\\n',classification_report(y_test,gb_pred))"
   ]
  },
  {
   "cell_type": "code",
   "execution_count": 27,
   "metadata": {},
   "outputs": [
    {
     "name": "stdout",
     "output_type": "stream",
     "text": [
      "The accuracy score for the neural network is:  \n",
      "\n",
      "               precision    recall  f1-score   support\n",
      "\n",
      "           0       0.86      0.95      0.90      1607\n",
      "           1       0.66      0.36      0.47       393\n",
      "\n",
      "    accuracy                           0.84      2000\n",
      "   macro avg       0.76      0.66      0.69      2000\n",
      "weighted avg       0.82      0.84      0.82      2000\n",
      "\n"
     ]
    }
   ],
   "source": [
    "print('The accuracy score for the neural network is: ','\\n\\n',classification_report(rounded_labels,nn_pred))"
   ]
  },
  {
   "cell_type": "code",
   "execution_count": null,
   "metadata": {},
   "outputs": [],
   "source": []
  }
 ],
 "metadata": {
  "kernelspec": {
   "display_name": "Python 3",
   "language": "python",
   "name": "python3"
  },
  "language_info": {
   "codemirror_mode": {
    "name": "ipython",
    "version": 3
   },
   "file_extension": ".py",
   "mimetype": "text/x-python",
   "name": "python",
   "nbconvert_exporter": "python",
   "pygments_lexer": "ipython3",
   "version": "3.8.3"
  }
 },
 "nbformat": 4,
 "nbformat_minor": 4
}
